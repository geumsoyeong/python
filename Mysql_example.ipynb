{
 "cells": [
  {
   "cell_type": "code",
   "execution_count": 32,
   "metadata": {},
   "outputs": [],
   "source": [
    "import pymysql"
   ]
  },
  {
   "cell_type": "code",
   "execution_count": null,
   "metadata": {
    "scrolled": false
   },
   "outputs": [],
   "source": [
    "# pip install pymysql"
   ]
  },
  {
   "cell_type": "code",
   "execution_count": 33,
   "metadata": {
    "scrolled": true
   },
   "outputs": [],
   "source": [
    "#1. Connection\n",
    "# Sqllite -> conn = sqlite3.connect('examole.db')\n",
    "conn = pymysql.connect(host='127.0.0.1', user='root', password='', port=3306, db='mydb', charset='utf8')"
   ]
  },
  {
   "cell_type": "code",
   "execution_count": 34,
   "metadata": {},
   "outputs": [
    {
     "name": "stdout",
     "output_type": "stream",
     "text": [
      "<pymysql.connections.Connection object at 0x000001AEC3156A00>\n"
     ]
    }
   ],
   "source": [
    "print(conn)"
   ]
  },
  {
   "cell_type": "code",
   "execution_count": 35,
   "metadata": {},
   "outputs": [],
   "source": [
    "cursor = conn.cursor()"
   ]
  },
  {
   "cell_type": "code",
   "execution_count": 22,
   "metadata": {},
   "outputs": [],
   "source": [
    "#insertSql = '''\n",
    "#CREATE TABLE member(\n",
    "#id       VARCAHR(20) PRIMARY KEY,\n",
    "#name     VARCHAR(20) NOT NULL,\n",
    "#pwd      VARCHAR(20) NOT NULL,\n",
    "#reg_date DATETIME\n",
    "#)\n",
    "#'''"
   ]
  },
  {
   "cell_type": "code",
   "execution_count": 28,
   "metadata": {},
   "outputs": [],
   "source": [
    "insertSql = \"\"\"INSERT INTO member(id, pwd, name, reg_date) VALUES('admin','1234','Administrator',NOW())\"\"\"\n",
    "cursor.execute(insertSql)\n",
    "conn.commit()"
   ]
  },
  {
   "cell_type": "code",
   "execution_count": 29,
   "metadata": {},
   "outputs": [],
   "source": [
    "insertSql = \"\"\"INSERT INTO member(id, pwd, name, reg_date) VALUES(%s, %s, %s, NOW())\"\"\"\n",
    "cursor.execute(insertSql, ('user1', '1111', 'TEST\\'s USER'))\n",
    "conn.commit()"
   ]
  },
  {
   "cell_type": "code",
   "execution_count": 36,
   "metadata": {},
   "outputs": [
    {
     "name": "stdout",
     "output_type": "stream",
     "text": [
      "('admin', 'Administrator', '1234', datetime.datetime(2021, 1, 8, 7, 25, 9))\n",
      "('user1', \"TEST's USER\", '1111', datetime.datetime(2021, 1, 8, 7, 25, 11))\n"
     ]
    }
   ],
   "source": [
    "selectSql = 'SELECT * FROM member'\n",
    "cursor.execute(selectSql)\n",
    "data = cursor.fetchall()\n",
    "\n",
    "for row in data:\n",
    "    print(row)"
   ]
  },
  {
   "cell_type": "code",
   "execution_count": null,
   "metadata": {},
   "outputs": [],
   "source": [
    "# sql = 'DELETE FROM member WHERE id=%s'\n",
    "# cursor.execute(sql, ('admin', 'user1' ))"
   ]
  },
  {
   "cell_type": "code",
   "execution_count": null,
   "metadata": {},
   "outputs": [],
   "source": []
  },
  {
   "cell_type": "code",
   "execution_count": null,
   "metadata": {},
   "outputs": [],
   "source": []
  },
  {
   "cell_type": "code",
   "execution_count": null,
   "metadata": {},
   "outputs": [],
   "source": [
    "conn.commit()"
   ]
  },
  {
   "cell_type": "code",
   "execution_count": null,
   "metadata": {},
   "outputs": [],
   "source": [
    "cursor.close()\n",
    "conn.close()"
   ]
  },
  {
   "cell_type": "code",
   "execution_count": null,
   "metadata": {},
   "outputs": [],
   "source": [
    "cmd = 'na' \n",
    "\n",
    "while cmd != 'q':\n",
    "\n",
    "print(\"\")\n",
    "\n",
    "print(\"***사용 가능 명령어 리스트***\")\n",
    "\n",
    "print(\"1  : 전체 회원 목록 보기(all)\")\n",
    "\n",
    "print(\"2  : 조건에 맞는 데이터만 조회(find)\")\n",
    "\n",
    "print(\"3  : 회원 등록(insert)\")\n",
    "\n",
    "print(\"4  : 회원 삭제(delete)\")\n",
    "\n",
    "print(\"5  : 종료(quit)\")\n",
    "\n",
    "print(\"\")\n",
    "\n",
    "cmd = input(\"command(명령어 입력): \")\n",
    "\n",
    "print(\"\")\n",
    "\n",
    "if cmd == '1':\n",
    "    \n",
    "    sql = \"SELECT * FROM student\"\n",
    "\n",
    "    cursor.execute(sql)\n",
    "\n",
    "    result = cursor.fetchall()\n",
    "\n",
    "    print_result(result)\n",
    "\n",
    "elif cmd == '2':\n",
    "    \n",
    "    print(\"무엇을 기준으로 검색하시겠습니까? (id, pwd, 이름, 가입날짜)\")\n",
    "\n",
    "    con = input(\"> \")\n",
    "\n",
    "    if con == 'id':\n",
    "        print(\"\\n검색하실 수강생의 id를 입력해 주세요.\")\n",
    "\n",
    "        con2 = input(\"> \")\n",
    "\n",
    "        sql = \"SELECT * FROM member WHERE id = '{}'\".format(con2)\n",
    "\n",
    "        cursor.execute(sql)\n",
    "\n",
    "        result = cursor.fetchall()\n",
    "\n",
    "        print_result(result)\n",
    "\n",
    "    elif con == '이름':\n",
    "        print(\"\\n검색하실 수강생의 이름을 입력해 주세요.\")\n",
    "\n",
    "        con2 = input(\"> \")\n",
    "\n",
    "        sql = \"SELECT * FROM member WHERE name = '{}'\".format(con2)\n",
    "\n",
    "        cursor.execute(sql)\n",
    "\n",
    "        result = cursor.fetchall()\n",
    "\n",
    "        print_result(result)\n",
    "\n",
    "elif cmd == '3':\n",
    "    id = input(\"회원 id: \")\n",
    "\n",
    "    pwd = input(\"비밀번호(숫자4자리): \")\n",
    "\n",
    "    name = input(\"회원 이름: \")\n",
    "\n",
    "    reg_date = input(\"가입 날짜: \")\n",
    "\n",
    "    insertSql = \"INSERT INTO member VALUES('{}',{},'{}','{}','{}')\".format(id, pwd, name, reg_date)\n",
    "\n",
    "    cursor.execute(sql)\n",
    "\n",
    "    connect.commit()\n",
    "\n",
    "    print(\"해당 데이터의 입력이 완료되었습니다.\")\n",
    "\n",
    "\n",
    "\n",
    "elif cmd == '4': <code>\n",
    "\n",
    "elif cmd == '5': <code>\n",
    "\n",
    "else:\n",
    "\n",
    "print(\"잘못된 명령어가 입력되었습니다. 다시 입력해 주세요.\")"
   ]
  }
 ],
 "metadata": {
  "kernelspec": {
   "display_name": "Python 3",
   "language": "python",
   "name": "python3"
  },
  "language_info": {
   "codemirror_mode": {
    "name": "ipython",
    "version": 3
   },
   "file_extension": ".py",
   "mimetype": "text/x-python",
   "name": "python",
   "nbconvert_exporter": "python",
   "pygments_lexer": "ipython3",
   "version": "3.9.1"
  }
 },
 "nbformat": 4,
 "nbformat_minor": 4
}
