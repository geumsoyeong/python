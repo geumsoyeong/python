{
 "cells": [
  {
   "cell_type": "code",
   "execution_count": 10,
   "metadata": {},
   "outputs": [],
   "source": [
    "file = open('file_examples.txt', 'r')"
   ]
  },
  {
   "cell_type": "code",
   "execution_count": 11,
   "metadata": {},
   "outputs": [
    {
     "name": "stdout",
     "output_type": "stream",
     "text": [
      "[7, 9, 24, 29, 34, 38]\n",
      "141\n"
     ]
    }
   ],
   "source": [
    "numbers = []    #파일을 오픈하고 불러오고 다시 닫아주는게 필요함\n",
    "while True:\n",
    "    number = file.readline()  #데이터를 읽어올 때 한 줄에 하나씩 읽어오기\n",
    "    if number:\n",
    "        numbers += [int(number)]\n",
    "    else:\n",
    "        break  #위의 while 문 탈출 후 밑의 클로즈로\n",
    "\n",
    "file.close()\n",
    "print(numbers)\n",
    "print(sum(numbers))"
   ]
  },
  {
   "cell_type": "code",
   "execution_count": 7,
   "metadata": {},
   "outputs": [],
   "source": [
    "contents = file.read()"
   ]
  },
  {
   "cell_type": "code",
   "execution_count": 8,
   "metadata": {},
   "outputs": [],
   "source": [
    "file.close()"
   ]
  },
  {
   "cell_type": "code",
   "execution_count": 9,
   "metadata": {},
   "outputs": [
    {
     "name": "stdout",
     "output_type": "stream",
     "text": [
      "7\n",
      "9\n",
      "24\n",
      "29\n",
      "34\n",
      "38\n"
     ]
    }
   ],
   "source": [
    "print(contents)   #이건 한 덩어리를 다 불러온 것"
   ]
  },
  {
   "cell_type": "code",
   "execution_count": null,
   "metadata": {},
   "outputs": [],
   "source": []
  },
  {
   "cell_type": "markdown",
   "metadata": {},
   "source": [
    "## File read - t가 포함된 문자열만 출력"
   ]
  },
  {
   "cell_type": "code",
   "execution_count": 20,
   "metadata": {},
   "outputs": [],
   "source": [
    "#open\n",
    "file = open('file_examples_text.txt', 'r')"
   ]
  },
  {
   "cell_type": "code",
   "execution_count": 21,
   "metadata": {},
   "outputs": [
    {
     "name": "stdout",
     "output_type": "stream",
     "text": [
      "<class 'list'>\n",
      "python\n",
      "\n",
      "javascript\n",
      "\n",
      "swift\n"
     ]
    }
   ],
   "source": [
    "#read\n",
    "#lang_file = file.read()  #평범하게 read해도되지만\n",
    "#print(type(lang_file))\n",
    "lang_list = file.readlines()   #readlines 로 불러오면 list타입으로 불러줌\n",
    "print(type(lang_list))\n",
    "\n",
    "for lang in lang_list:\n",
    "    if 't' in lang:\n",
    "        print(lang)"
   ]
  },
  {
   "cell_type": "code",
   "execution_count": 22,
   "metadata": {},
   "outputs": [],
   "source": [
    "#close\n",
    "file.close()"
   ]
  },
  {
   "cell_type": "markdown",
   "metadata": {},
   "source": [
    "## File write"
   ]
  },
  {
   "cell_type": "code",
   "execution_count": 25,
   "metadata": {},
   "outputs": [
    {
     "name": "stdout",
     "output_type": "stream",
     "text": [
      "저장할 메모를 작성하세요.\n",
      "안녕하세요, hello world\n"
     ]
    }
   ],
   "source": [
    "file = open('memo.txt', 'w', encoding='utf-8')  #vs code보면 memo가 생성되어있다\n",
    "text = input(\"저장할 메모를 작성하세요.\\n\")     #encoding은 입력한 한글값 안깨지게 해줌"
   ]
  },
  {
   "cell_type": "code",
   "execution_count": 26,
   "metadata": {},
   "outputs": [],
   "source": [
    "file.write(text) #위에서 input에 문서를 작성해준 후 여기서\n",
    "file.close()     #write시키고 다시 닫아주고 code를 보면 문자가 생겨있음"
   ]
  },
  {
   "cell_type": "markdown",
   "metadata": {},
   "source": [
    "## 구구단을 파일로 저장"
   ]
  },
  {
   "cell_type": "code",
   "execution_count": 27,
   "metadata": {},
   "outputs": [],
   "source": [
    "file = open('gugudan.txt', 'w', encoding='utf-8') #한글이 포함됐을 때\n",
    "\n",
    "for x in range(2, 10):\n",
    "    for y in range(1, 10):\n",
    "        file.write(\"%d * %d = %d\\n\" % (x, y, (x * y))) #이전처럼 {}도 이용가능 \n",
    "file.close()"
   ]
  },
  {
   "cell_type": "markdown",
   "metadata": {},
   "source": [
    "## 구구단 파일을 읽어오기"
   ]
  },
  {
   "cell_type": "code",
   "execution_count": null,
   "metadata": {
    "scrolled": true
   },
   "outputs": [],
   "source": [
    "file = open('gugudan.txt', 'r')\n",
    "while True:\n",
    "    line = file.readline()\n",
    "    if not line:\n",
    "        break\n",
    "    print(line, end='')\n",
    "\n",
    "file.close()"
   ]
  },
  {
   "cell_type": "markdown",
   "metadata": {},
   "source": [
    "### 결과값 중 7의 배수만 출력"
   ]
  },
  {
   "cell_type": "code",
   "execution_count": null,
   "metadata": {},
   "outputs": [],
   "source": [
    "file = open('gugudan.txt', 'r')\n",
    "while True:\n",
    "    line = file.readline()\n",
    "    if not line:\n",
    "        break\n",
    "    result = int(line[-3:])\n",
    "    if result % 7 == 0:\n",
    "        print(line, end='')\n",
    "\n",
    "file.close()"
   ]
  },
  {
   "cell_type": "markdown",
   "metadata": {},
   "source": [
    "## gugudan.txt의 2단 내용만 튜플 형태로 저장"
   ]
  },
  {
   "cell_type": "code",
   "execution_count": 39,
   "metadata": {},
   "outputs": [],
   "source": [
    "file = open('gugudan.txt', 'r')\n",
    "\n",
    "t = tuple()"
   ]
  },
  {
   "cell_type": "code",
   "execution_count": 40,
   "metadata": {},
   "outputs": [
    {
     "name": "stdout",
     "output_type": "stream",
     "text": [
      "('2 * 1 = 2\\n', '2 * 2 = 4\\n', '2 * 3 = 6\\n', '2 * 4 = 8\\n', '2 * 5 = 10\\n', '2 * 6 = 12\\n', '2 * 7 = 14\\n', '2 * 8 = 16\\n', '2 * 9 = 18\\n')\n"
     ]
    }
   ],
   "source": [
    "while True:\n",
    "    data = file.readline()\n",
    "    \n",
    "    if not data:\n",
    "        break\n",
    "    \n",
    "    if data[0] == '2':\n",
    "        t += (data, )\n",
    "\n",
    "file.close()\n",
    "print(t)"
   ]
  },
  {
   "cell_type": "markdown",
   "metadata": {},
   "source": [
    "## python.txt의 내용 중 'java'라는 글자를 'python'으로 변경"
   ]
  },
  {
   "cell_type": "code",
   "execution_count": 42,
   "metadata": {},
   "outputs": [],
   "source": [
    "#python.txt 내용 저장\n",
    "file = open('python.txt', 'w')\n",
    "file.write('Life is too short\\nyou need java')\n",
    "file.close()"
   ]
  },
  {
   "cell_type": "code",
   "execution_count": 47,
   "metadata": {},
   "outputs": [],
   "source": [
    "file = open('python.txt', 'r')\n",
    "text = file.read()\n",
    "text = text.replace('java', 'python')\n",
    "file.close()"
   ]
  },
  {
   "cell_type": "code",
   "execution_count": 49,
   "metadata": {},
   "outputs": [],
   "source": [
    "file = open('python.txt', 'w')\n",
    "file.write(text)\n",
    "file.close()"
   ]
  },
  {
   "cell_type": "markdown",
   "metadata": {},
   "source": [
    "## p.246 예제"
   ]
  },
  {
   "cell_type": "code",
   "execution_count": 50,
   "metadata": {},
   "outputs": [],
   "source": [
    "import urllib.request\n",
    "url = 'https://robjhyndman.com/tsdldata/ecology1/hopedale.dat'"
   ]
  },
  {
   "cell_type": "code",
   "execution_count": null,
   "metadata": {},
   "outputs": [],
   "source": [
    "with urllib.request.urlopen(url) as webpage:\n",
    "    for line in webpage:\n",
    "        line = line.strip()\n",
    "        line = line.decode('utf-8')\n",
    "        print(line)"
   ]
  },
  {
   "cell_type": "markdown",
   "metadata": {},
   "source": [
    "## word count - 어린왕자 소설에 사용된 단어의 개수를 세어서, 파일로 출력하시오 (출력은 알파벳 오름(a~z)차순으로 출력) \n",
    "I- 90        \n",
    "is - 999\n",
    "the - 1000"
   ]
  },
  {
   "cell_type": "code",
   "execution_count": 52,
   "metadata": {},
   "outputs": [],
   "source": [
    "f = open('the_little_prince.txt', 'r')"
   ]
  },
  {
   "cell_type": "code",
   "execution_count": 53,
   "metadata": {},
   "outputs": [],
   "source": [
    "from collections import Counter\n",
    "wordDict = Counter()"
   ]
  },
  {
   "cell_type": "code",
   "execution_count": 54,
   "metadata": {},
   "outputs": [],
   "source": [
    "sentences = f.readlines()"
   ]
  },
  {
   "cell_type": "code",
   "execution_count": 55,
   "metadata": {},
   "outputs": [],
   "source": [
    "for sentence in sentences: #한 문장씩\n",
    "    for word in sentence.split(): #한 문장에 들어있는 한 단어씩\n",
    "        wordDict[word] += 1 #Counter에 count를 1씩 증가시킨다."
   ]
  },
  {
   "cell_type": "code",
   "execution_count": 57,
   "metadata": {},
   "outputs": [
    {
     "name": "stdout",
     "output_type": "stream",
     "text": [
      "the 889\n",
      "I 453\n",
      "to 447\n",
      "a 399\n",
      "of 337\n",
      "is 292\n",
      "that 250\n",
      "little 248\n",
      "he 221\n",
      "and 209\n"
     ]
    }
   ],
   "source": [
    "for word, freq in wordDict.most_common(10):\n",
    "    print (word, freq)"
   ]
  },
  {
   "cell_type": "code",
   "execution_count": 60,
   "metadata": {},
   "outputs": [
    {
     "data": {
      "text/plain": [
       "dict_items([('the', 889), ('I', 453), ('to', 447)])"
      ]
     },
     "execution_count": 60,
     "metadata": {},
     "output_type": "execute_result"
    }
   ],
   "source": [
    "d = {'the':889, 'I':453, 'to':447}\n",
    "d.items()"
   ]
  },
  {
   "cell_type": "code",
   "execution_count": 61,
   "metadata": {},
   "outputs": [
    {
     "name": "stdout",
     "output_type": "stream",
     "text": [
      "I 453\n",
      "the 889\n",
      "to 447\n"
     ]
    }
   ],
   "source": [
    "for k, v in sorted(d.items()):\n",
    "    print(k,v)"
   ]
  },
  {
   "cell_type": "markdown",
   "metadata": {},
   "source": [
    "## 예외처리(Error(or Exception) Handling"
   ]
  },
  {
   "cell_type": "code",
   "execution_count": 63,
   "metadata": {},
   "outputs": [
    {
     "name": "stdout",
     "output_type": "stream",
     "text": [
      "1:Life is too short\n",
      "2:you need python\n"
     ]
    }
   ],
   "source": [
    "try:\n",
    "    text_file = open('python.txt', 'r')\n",
    "    text = \"\"\n",
    "    line = 1\n",
    "    \n",
    "    while True:\n",
    "        row = text_file.readline()\n",
    "        if not row:\n",
    "            break\n",
    "        text += str(line) + \":\" + row\n",
    "        line += 1\n",
    "    text_file.close()\n",
    "    \n",
    "except FileNotFoundError as e:\n",
    "    print('파일이 존재하지 않습니다.', e)\n",
    "except Exception:\n",
    "    print(\"Error\")\n",
    "else:\n",
    "    print(text)\n"
   ]
  },
  {
   "cell_type": "code",
   "execution_count": null,
   "metadata": {},
   "outputs": [],
   "source": []
  }
 ],
 "metadata": {
  "kernelspec": {
   "display_name": "Python 3",
   "language": "python",
   "name": "python3"
  },
  "language_info": {
   "codemirror_mode": {
    "name": "ipython",
    "version": 3
   },
   "file_extension": ".py",
   "mimetype": "text/x-python",
   "name": "python",
   "nbconvert_exporter": "python",
   "pygments_lexer": "ipython3",
   "version": "3.8.5"
  }
 },
 "nbformat": 4,
 "nbformat_minor": 4
}
