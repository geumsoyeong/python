{
 "cells": [
  {
   "cell_type": "markdown",
   "metadata": {},
   "source": [
    "## ch.14 객체 지향 프로그래밍 0107"
   ]
  },
  {
   "cell_type": "code",
   "execution_count": 20,
   "metadata": {},
   "outputs": [],
   "source": [
    "from typing import List, Any"
   ]
  },
  {
   "cell_type": "code",
   "execution_count": 61,
   "metadata": {},
   "outputs": [],
   "source": [
    "class Book:\n",
    "    def __init__(self, title:str, authors:List[str], publisher:str, isbn:str, price:float):\n",
    "        self.title = title\n",
    "        self.authors = authors\n",
    "        self.publisher = publisher\n",
    "        self.isbn = isbn\n",
    "        self.price = price\n",
    "        \n",
    "    def __eq__(self, other: Any) -> bool:\n",
    "        return isinstance(other, Book) and self.isbn == other.isbn\n",
    "        \n",
    "    def __str__(self) -> str:\n",
    "        return \"\"\"Title:{0}\n",
    "Authors:{1}\n",
    "Publisher:{2}\n",
    "ISBN:{3}\n",
    "Price:${4}\"\"\" .format(self.title, self.authors, self.publisher, self.isbn, self.price)\n",
    "    \n",
    "    def num_authors(self) -> int:\n",
    "        return len(self.authors)   #self : 내장객체, 자기자신을 나타내는 객체\n",
    "    #갯수 구하려고 len 씀\n",
    "    #pass  #나중에 내용 채워놓고자할 때 씀"
   ]
  },
  {
   "cell_type": "code",
   "execution_count": 62,
   "metadata": {},
   "outputs": [
    {
     "data": {
      "text/plain": [
       "['__class__',\n",
       " '__delattr__',\n",
       " '__dict__',\n",
       " '__dir__',\n",
       " '__doc__',\n",
       " '__eq__',\n",
       " '__format__',\n",
       " '__ge__',\n",
       " '__getattribute__',\n",
       " '__gt__',\n",
       " '__hash__',\n",
       " '__init__',\n",
       " '__init_subclass__',\n",
       " '__le__',\n",
       " '__lt__',\n",
       " '__module__',\n",
       " '__ne__',\n",
       " '__new__',\n",
       " '__reduce__',\n",
       " '__reduce_ex__',\n",
       " '__repr__',\n",
       " '__setattr__',\n",
       " '__sizeof__',\n",
       " '__str__',\n",
       " '__subclasshook__',\n",
       " '__weakref__',\n",
       " 'num_authors']"
      ]
     },
     "execution_count": 62,
     "metadata": {},
     "output_type": "execute_result"
    }
   ],
   "source": [
    "dir(Book)   #보이는 메소드들을 재정의해서 사용할 수 있음 오버라이딩"
   ]
  },
  {
   "cell_type": "code",
   "execution_count": 63,
   "metadata": {},
   "outputs": [],
   "source": [
    "ruby_book = Book('Programming Ruby',\n",
    "                [\"Thomas\", \"Fowler\", \"Hunt\"],\n",
    "                'Pragmatic nookshelf',\n",
    "                '111-1111',\n",
    "                25.0) #Book -> instance"
   ]
  },
  {
   "cell_type": "code",
   "execution_count": 64,
   "metadata": {},
   "outputs": [],
   "source": [
    "ruby_book.title = 'Programming Ruby'"
   ]
  },
  {
   "cell_type": "code",
   "execution_count": 43,
   "metadata": {},
   "outputs": [
    {
     "ename": "NameError",
     "evalue": "name 'c' is not defined",
     "output_type": "error",
     "traceback": [
      "\u001b[1;31m---------------------------------------------------------------------------\u001b[0m",
      "\u001b[1;31mNameError\u001b[0m                                 Traceback (most recent call last)",
      "\u001b[1;32m<ipython-input-43-2161fc57d585>\u001b[0m in \u001b[0;36m<module>\u001b[1;34m\u001b[0m\n\u001b[1;32m----> 1\u001b[1;33m \u001b[0mruby_book\u001b[0m\u001b[1;33m.\u001b[0m\u001b[0mauthors\u001b[0m \u001b[1;33m=\u001b[0m \u001b[1;33m[\u001b[0m\u001b[0mc\u001b[0m\u001b[1;33m]\u001b[0m\u001b[1;33m\u001b[0m\u001b[1;33m\u001b[0m\u001b[0m\n\u001b[0m",
      "\u001b[1;31mNameError\u001b[0m: name 'c' is not defined"
     ]
    }
   ],
   "source": [
    "ruby_book.authors = [c]"
   ]
  },
  {
   "cell_type": "code",
   "execution_count": 65,
   "metadata": {},
   "outputs": [
    {
     "name": "stdout",
     "output_type": "stream",
     "text": [
      "Programming Ruby\n"
     ]
    }
   ],
   "source": [
    "print(ruby_book.title)"
   ]
  },
  {
   "cell_type": "code",
   "execution_count": 66,
   "metadata": {},
   "outputs": [
    {
     "name": "stdout",
     "output_type": "stream",
     "text": [
      "['Thomas', 'Fowler', 'Hunt']\n"
     ]
    }
   ],
   "source": [
    "print(ruby_book.authors)"
   ]
  },
  {
   "cell_type": "code",
   "execution_count": 67,
   "metadata": {},
   "outputs": [
    {
     "name": "stdout",
     "output_type": "stream",
     "text": [
      "3\n"
     ]
    }
   ],
   "source": [
    "print(ruby_book.num_authors())"
   ]
  },
  {
   "cell_type": "code",
   "execution_count": 68,
   "metadata": {},
   "outputs": [],
   "source": [
    "python_book = Book('Programming Python',\n",
    "                [\"Campbell\", \"Gries\", \"Montojo\"],\n",
    "                'Pragmatic bookshelf',\n",
    "                '978-1-6805026',\n",
    "                25.0)  # 인자값을 넣어서 생성하면 오류가 생김 "
   ]
  },
  {
   "cell_type": "code",
   "execution_count": 69,
   "metadata": {},
   "outputs": [
    {
     "name": "stdout",
     "output_type": "stream",
     "text": [
      "Programming Ruby\n",
      "Programming Python\n"
     ]
    }
   ],
   "source": [
    "print(ruby_book.title)\n",
    "print(python_book.title)"
   ]
  },
  {
   "cell_type": "code",
   "execution_count": 70,
   "metadata": {},
   "outputs": [
    {
     "name": "stdout",
     "output_type": "stream",
     "text": [
      "Title:Programming Python\n",
      "Authors:['Campbell', 'Gries', 'Montojo']\n",
      "Publisher:Pragmatic bookshelf\n",
      "ISBN:978-1-6805026\n",
      "Price:$25.0\n"
     ]
    }
   ],
   "source": [
    "print(python_book)  #객체자체를 출력  == print(python_book.__str__)"
   ]
  },
  {
   "cell_type": "code",
   "execution_count": 71,
   "metadata": {},
   "outputs": [
    {
     "name": "stdout",
     "output_type": "stream",
     "text": [
      "<bound method Book.__str__ of <__main__.Book object at 0x00000229861A56D0>>\n"
     ]
    }
   ],
   "source": [
    "print(python_book.__str__)"
   ]
  },
  {
   "cell_type": "code",
   "execution_count": 72,
   "metadata": {},
   "outputs": [
    {
     "name": "stdout",
     "output_type": "stream",
     "text": [
      "Title:Programming Ruby\n",
      "Authors:['Thomas', 'Fowler', 'Hunt']\n",
      "Publisher:Pragmatic nookshelf\n",
      "ISBN:111-1111\n",
      "Price:$25.0\n"
     ]
    }
   ],
   "source": [
    "print(ruby_book)"
   ]
  },
  {
   "cell_type": "code",
   "execution_count": 73,
   "metadata": {},
   "outputs": [],
   "source": [
    "python_book1 = Book('Programming Python',\n",
    "                [\"Campbell\", \"Gries\", \"Montojo\"],\n",
    "                'Pragmatic bookshelf',\n",
    "                '978-1-6805026',\n",
    "                25.0)  "
   ]
  },
  {
   "cell_type": "code",
   "execution_count": 74,
   "metadata": {},
   "outputs": [],
   "source": [
    "python_book2 = Book('Programming Python',\n",
    "                [\"Campbell\", \"Gries\", \"Montojo\"],\n",
    "                'Pragmatic bookshelf',\n",
    "                '978-1-6805026',\n",
    "                25.0)  #같은 내용으로 파이썬 북1,2 생성"
   ]
  },
  {
   "cell_type": "code",
   "execution_count": 75,
   "metadata": {},
   "outputs": [
    {
     "data": {
      "text/plain": [
       "True"
      ]
     },
     "execution_count": 75,
     "metadata": {},
     "output_type": "execute_result"
    }
   ],
   "source": [
    "python_book1 == python_book2  #같냐고 물어봤지만 다름, ==은 메모리 주소가 같은지 물어보는 것임\n",
    "#eq를 추가해서 isbn코드가 같으면 같다고하기를 추가했더니 같다고 나옴"
   ]
  },
  {
   "cell_type": "code",
   "execution_count": 76,
   "metadata": {},
   "outputs": [
    {
     "data": {
      "text/plain": [
       "True"
      ]
     },
     "execution_count": 76,
     "metadata": {},
     "output_type": "execute_result"
    }
   ],
   "source": [
    "python_book1 == python_book1"
   ]
  },
  {
   "cell_type": "code",
   "execution_count": 77,
   "metadata": {},
   "outputs": [
    {
     "data": {
      "text/plain": [
       "True"
      ]
     },
     "execution_count": 77,
     "metadata": {},
     "output_type": "execute_result"
    }
   ],
   "source": [
    "python_book2 == python_book2"
   ]
  },
  {
   "cell_type": "code",
   "execution_count": 78,
   "metadata": {},
   "outputs": [
    {
     "data": {
      "text/plain": [
       "True"
      ]
     },
     "execution_count": 78,
     "metadata": {},
     "output_type": "execute_result"
    }
   ],
   "source": [
    "isinstance('abc', str)"
   ]
  },
  {
   "cell_type": "code",
   "execution_count": 79,
   "metadata": {},
   "outputs": [
    {
     "data": {
      "text/plain": [
       "True"
      ]
     },
     "execution_count": 79,
     "metadata": {},
     "output_type": "execute_result"
    }
   ],
   "source": [
    "isinstance(python_book1, Book)"
   ]
  },
  {
   "cell_type": "code",
   "execution_count": 80,
   "metadata": {},
   "outputs": [
    {
     "data": {
      "text/plain": [
       "True"
      ]
     },
     "execution_count": 80,
     "metadata": {},
     "output_type": "execute_result"
    }
   ],
   "source": [
    "python_book1.title == python_book2.title  #우리는 내용이 같은걸 같다고 하고싶다. 위로가서 eq추가"
   ]
  },
  {
   "cell_type": "code",
   "execution_count": 60,
   "metadata": {},
   "outputs": [
    {
     "data": {
      "text/plain": [
       "['__class__',\n",
       " '__delattr__',\n",
       " '__dict__',\n",
       " '__dir__',\n",
       " '__doc__',\n",
       " '__eq__',\n",
       " '__format__',\n",
       " '__ge__',\n",
       " '__getattribute__',\n",
       " '__gt__',\n",
       " '__hash__',\n",
       " '__init__',\n",
       " '__init_subclass__',\n",
       " '__le__',\n",
       " '__lt__',\n",
       " '__module__',\n",
       " '__ne__',\n",
       " '__new__',\n",
       " '__reduce__',\n",
       " '__reduce_ex__',\n",
       " '__repr__',\n",
       " '__setattr__',\n",
       " '__sizeof__',\n",
       " '__str__',\n",
       " '__subclasshook__',\n",
       " '__weakref__',\n",
       " 'authors',\n",
       " 'isbn',\n",
       " 'num_authors',\n",
       " 'price',\n",
       " 'publisher',\n",
       " 'title']"
      ]
     },
     "execution_count": 60,
     "metadata": {},
     "output_type": "execute_result"
    }
   ],
   "source": [
    "dir(python_book1)    #eq라는 메소드가 인자값같은지 해주는것 맨위 다시가서 입력"
   ]
  },
  {
   "cell_type": "code",
   "execution_count": null,
   "metadata": {},
   "outputs": [],
   "source": []
  }
 ],
 "metadata": {
  "kernelspec": {
   "display_name": "Python 3",
   "language": "python",
   "name": "python3"
  },
  "language_info": {
   "codemirror_mode": {
    "name": "ipython",
    "version": 3
   },
   "file_extension": ".py",
   "mimetype": "text/x-python",
   "name": "python",
   "nbconvert_exporter": "python",
   "pygments_lexer": "ipython3",
   "version": "3.8.5"
  }
 },
 "nbformat": 4,
 "nbformat_minor": 4
}
