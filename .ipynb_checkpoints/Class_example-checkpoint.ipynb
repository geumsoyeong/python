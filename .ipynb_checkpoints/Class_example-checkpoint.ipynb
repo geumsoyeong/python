{
 "cells": [
  {
   "cell_type": "markdown",
   "metadata": {},
   "source": [
    "## ch.14 객체 지향 프로그래밍 0107"
   ]
  },
  {
   "cell_type": "code",
   "execution_count": 20,
   "metadata": {},
   "outputs": [],
   "source": [
    "from typing import List, Any"
   ]
  },
  {
   "cell_type": "code",
   "execution_count": 61,
   "metadata": {},
   "outputs": [],
   "source": [
    "class Book:\n",
    "    def __init__(self, title:str, authors:List[str], publisher:str, isbn:str, price:float):\n",
    "        self.title = title\n",
    "        self.authors = authors\n",
    "        self.publisher = publisher\n",
    "        self.isbn = isbn\n",
    "        self.price = price\n",
    "        \n",
    "    def __eq__(self, other: Any) -> bool:\n",
    "        return isinstance(other, Book) and self.isbn == other.isbn\n",
    "        \n",
    "    def __str__(self) -> str:\n",
    "        return \"\"\"Title:{0}\n",
    "Authors:{1}\n",
    "Publisher:{2}\n",
    "ISBN:{3}\n",
    "Price:${4}\"\"\" .format(self.title, self.authors, self.publisher, self.isbn, self.price)\n",
    "    \n",
    "    def num_authors(self) -> int:\n",
    "        return len(self.authors)   #self : 내장객체, 자기자신을 나타내는 객체\n",
    "    #갯수 구하려고 len 씀\n",
    "    #pass  #나중에 내용 채워놓고자할 때 씀"
   ]
  },
  {
   "cell_type": "code",
   "execution_count": null,
   "metadata": {},
   "outputs": [],
   "source": [
    "dir(Book)   #보이는 메소드들을 재정의해서 사용할 수 있음 오버라이딩"
   ]
  },
  {
   "cell_type": "code",
   "execution_count": 63,
   "metadata": {},
   "outputs": [],
   "source": [
    "ruby_book = Book('Programming Ruby',\n",
    "                [\"Thomas\", \"Fowler\", \"Hunt\"],\n",
    "                'Pragmatic nookshelf',\n",
    "                '111-1111',\n",
    "                25.0) #Book -> instance"
   ]
  },
  {
   "cell_type": "code",
   "execution_count": 64,
   "metadata": {},
   "outputs": [],
   "source": [
    "ruby_book.title = 'Programming Ruby'"
   ]
  },
  {
   "cell_type": "code",
   "execution_count": 43,
   "metadata": {},
   "outputs": [
    {
     "ename": "NameError",
     "evalue": "name 'c' is not defined",
     "output_type": "error",
     "traceback": [
      "\u001b[1;31m---------------------------------------------------------------------------\u001b[0m",
      "\u001b[1;31mNameError\u001b[0m                                 Traceback (most recent call last)",
      "\u001b[1;32m<ipython-input-43-2161fc57d585>\u001b[0m in \u001b[0;36m<module>\u001b[1;34m\u001b[0m\n\u001b[1;32m----> 1\u001b[1;33m \u001b[0mruby_book\u001b[0m\u001b[1;33m.\u001b[0m\u001b[0mauthors\u001b[0m \u001b[1;33m=\u001b[0m \u001b[1;33m[\u001b[0m\u001b[0mc\u001b[0m\u001b[1;33m]\u001b[0m\u001b[1;33m\u001b[0m\u001b[1;33m\u001b[0m\u001b[0m\n\u001b[0m",
      "\u001b[1;31mNameError\u001b[0m: name 'c' is not defined"
     ]
    }
   ],
   "source": [
    "ruby_book.authors = [c]"
   ]
  },
  {
   "cell_type": "code",
   "execution_count": 65,
   "metadata": {},
   "outputs": [
    {
     "name": "stdout",
     "output_type": "stream",
     "text": [
      "Programming Ruby\n"
     ]
    }
   ],
   "source": [
    "print(ruby_book.title)"
   ]
  },
  {
   "cell_type": "code",
   "execution_count": 66,
   "metadata": {},
   "outputs": [
    {
     "name": "stdout",
     "output_type": "stream",
     "text": [
      "['Thomas', 'Fowler', 'Hunt']\n"
     ]
    }
   ],
   "source": [
    "print(ruby_book.authors)"
   ]
  },
  {
   "cell_type": "code",
   "execution_count": 67,
   "metadata": {},
   "outputs": [
    {
     "name": "stdout",
     "output_type": "stream",
     "text": [
      "3\n"
     ]
    }
   ],
   "source": [
    "print(ruby_book.num_authors())"
   ]
  },
  {
   "cell_type": "code",
   "execution_count": 68,
   "metadata": {},
   "outputs": [],
   "source": [
    "python_book = Book('Programming Python',\n",
    "                [\"Campbell\", \"Gries\", \"Montojo\"],\n",
    "                'Pragmatic bookshelf',\n",
    "                '978-1-6805026',\n",
    "                25.0)  # 인자값을 넣어서 생성하면 오류가 생김 "
   ]
  },
  {
   "cell_type": "code",
   "execution_count": 69,
   "metadata": {},
   "outputs": [
    {
     "name": "stdout",
     "output_type": "stream",
     "text": [
      "Programming Ruby\n",
      "Programming Python\n"
     ]
    }
   ],
   "source": [
    "print(ruby_book.title)\n",
    "print(python_book.title)"
   ]
  },
  {
   "cell_type": "code",
   "execution_count": 70,
   "metadata": {},
   "outputs": [
    {
     "name": "stdout",
     "output_type": "stream",
     "text": [
      "Title:Programming Python\n",
      "Authors:['Campbell', 'Gries', 'Montojo']\n",
      "Publisher:Pragmatic bookshelf\n",
      "ISBN:978-1-6805026\n",
      "Price:$25.0\n"
     ]
    }
   ],
   "source": [
    "print(python_book)  #객체자체를 출력  == print(python_book.__str__)"
   ]
  },
  {
   "cell_type": "code",
   "execution_count": 71,
   "metadata": {},
   "outputs": [
    {
     "name": "stdout",
     "output_type": "stream",
     "text": [
      "<bound method Book.__str__ of <__main__.Book object at 0x00000229861A56D0>>\n"
     ]
    }
   ],
   "source": [
    "print(python_book.__str__)"
   ]
  },
  {
   "cell_type": "code",
   "execution_count": 72,
   "metadata": {},
   "outputs": [
    {
     "name": "stdout",
     "output_type": "stream",
     "text": [
      "Title:Programming Ruby\n",
      "Authors:['Thomas', 'Fowler', 'Hunt']\n",
      "Publisher:Pragmatic nookshelf\n",
      "ISBN:111-1111\n",
      "Price:$25.0\n"
     ]
    }
   ],
   "source": [
    "print(ruby_book)"
   ]
  },
  {
   "cell_type": "code",
   "execution_count": 73,
   "metadata": {},
   "outputs": [],
   "source": [
    "python_book1 = Book('Programming Python',\n",
    "                [\"Campbell\", \"Gries\", \"Montojo\"],\n",
    "                'Pragmatic bookshelf',\n",
    "                '978-1-6805026',\n",
    "                25.0)  "
   ]
  },
  {
   "cell_type": "code",
   "execution_count": 74,
   "metadata": {},
   "outputs": [],
   "source": [
    "python_book2 = Book('Programming Python',\n",
    "                [\"Campbell\", \"Gries\", \"Montojo\"],\n",
    "                'Pragmatic bookshelf',\n",
    "                '978-1-6805026',\n",
    "                25.0)  #같은 내용으로 파이썬 북1,2 생성"
   ]
  },
  {
   "cell_type": "code",
   "execution_count": 75,
   "metadata": {},
   "outputs": [
    {
     "data": {
      "text/plain": [
       "True"
      ]
     },
     "execution_count": 75,
     "metadata": {},
     "output_type": "execute_result"
    }
   ],
   "source": [
    "python_book1 == python_book2  #같냐고 물어봤지만 다름, ==은 메모리 주소가 같은지 물어보는 것임\n",
    "#eq를 추가해서 isbn코드가 같으면 같다고하기를 추가했더니 같다고 나옴"
   ]
  },
  {
   "cell_type": "code",
   "execution_count": 76,
   "metadata": {},
   "outputs": [
    {
     "data": {
      "text/plain": [
       "True"
      ]
     },
     "execution_count": 76,
     "metadata": {},
     "output_type": "execute_result"
    }
   ],
   "source": [
    "python_book1 == python_book1"
   ]
  },
  {
   "cell_type": "code",
   "execution_count": 77,
   "metadata": {},
   "outputs": [
    {
     "data": {
      "text/plain": [
       "True"
      ]
     },
     "execution_count": 77,
     "metadata": {},
     "output_type": "execute_result"
    }
   ],
   "source": [
    "python_book2 == python_book2"
   ]
  },
  {
   "cell_type": "code",
   "execution_count": 78,
   "metadata": {},
   "outputs": [
    {
     "data": {
      "text/plain": [
       "True"
      ]
     },
     "execution_count": 78,
     "metadata": {},
     "output_type": "execute_result"
    }
   ],
   "source": [
    "isinstance('abc', str)"
   ]
  },
  {
   "cell_type": "code",
   "execution_count": 79,
   "metadata": {},
   "outputs": [
    {
     "data": {
      "text/plain": [
       "True"
      ]
     },
     "execution_count": 79,
     "metadata": {},
     "output_type": "execute_result"
    }
   ],
   "source": [
    "isinstance(python_book1, Book)"
   ]
  },
  {
   "cell_type": "code",
   "execution_count": 80,
   "metadata": {},
   "outputs": [
    {
     "data": {
      "text/plain": [
       "True"
      ]
     },
     "execution_count": 80,
     "metadata": {},
     "output_type": "execute_result"
    }
   ],
   "source": [
    "python_book1.title == python_book2.title  #우리는 내용이 같은걸 같다고 하고싶다. 위로가서 eq추가"
   ]
  },
  {
   "cell_type": "code",
   "execution_count": null,
   "metadata": {},
   "outputs": [],
   "source": [
    "dir(python_book1)    #eq라는 메소드가 인자값같은지 해주는것 맨위 다시가서 입력"
   ]
  },
  {
   "cell_type": "markdown",
   "metadata": {},
   "source": [
    "## 05클래스 pdf 연습문제"
   ]
  },
  {
   "cell_type": "markdown",
   "metadata": {},
   "source": [
    "### 1번"
   ]
  },
  {
   "cell_type": "code",
   "execution_count": 81,
   "metadata": {},
   "outputs": [],
   "source": [
    "class Letter:\n",
    "    letter = ''\n",
    "    def write(self,text:str) -> None:\n",
    "        self.letter += letter\n",
    "        \n",
    "    def show(self) -> str:\n",
    "        return self.letter\n",
    "    \n",
    "    def clear(self) -> None:\n",
    "        self.letter =  ''  #레터 지워줌\n",
    "    \n",
    " #   letter1 = Letter()\n",
    "#letter1.write('가나다라')\n",
    "#letter1.write('카타파하')\n",
    "\n",
    "#letter2 = Letter()\n",
    "#letter2.write('ABCD')\n",
    "#letter2.write('WXYZ')\n",
    "\n",
    "#print(letter1.show())\n",
    "#print(letter2.show())"
   ]
  },
  {
   "cell_type": "code",
   "execution_count": 86,
   "metadata": {},
   "outputs": [],
   "source": [
    "letter1 = Letter()\n",
    "letter2 = Letter()"
   ]
  },
  {
   "cell_type": "code",
   "execution_count": 85,
   "metadata": {},
   "outputs": [
    {
     "ename": "NameError",
     "evalue": "name 'letter' is not defined",
     "output_type": "error",
     "traceback": [
      "\u001b[1;31m---------------------------------------------------------------------------\u001b[0m",
      "\u001b[1;31mNameError\u001b[0m                                 Traceback (most recent call last)",
      "\u001b[1;32m<ipython-input-85-b2908af90fb7>\u001b[0m in \u001b[0;36m<module>\u001b[1;34m\u001b[0m\n\u001b[1;32m----> 1\u001b[1;33m \u001b[0mletter1\u001b[0m\u001b[1;33m.\u001b[0m\u001b[0mwrite\u001b[0m\u001b[1;33m(\u001b[0m\u001b[1;34m\"가나다라\"\u001b[0m\u001b[1;33m)\u001b[0m\u001b[1;33m\u001b[0m\u001b[1;33m\u001b[0m\u001b[0m\n\u001b[0m\u001b[0;32m      2\u001b[0m \u001b[0mletter1\u001b[0m\u001b[1;33m.\u001b[0m\u001b[0mwrite\u001b[0m\u001b[1;33m(\u001b[0m\u001b[1;34m\"카타파하\"\u001b[0m\u001b[1;33m)\u001b[0m\u001b[1;33m\u001b[0m\u001b[1;33m\u001b[0m\u001b[0m\n\u001b[0;32m      3\u001b[0m \u001b[1;33m\u001b[0m\u001b[0m\n\u001b[0;32m      4\u001b[0m \u001b[0mletter2\u001b[0m\u001b[1;33m.\u001b[0m\u001b[0mwrite\u001b[0m\u001b[1;33m(\u001b[0m\u001b[1;34m'ABCD'\u001b[0m\u001b[1;33m)\u001b[0m\u001b[1;33m\u001b[0m\u001b[1;33m\u001b[0m\u001b[0m\n\u001b[0;32m      5\u001b[0m \u001b[0mletter2\u001b[0m\u001b[1;33m.\u001b[0m\u001b[0mwrite\u001b[0m\u001b[1;33m(\u001b[0m\u001b[1;34m'WXYZ'\u001b[0m\u001b[1;33m)\u001b[0m\u001b[1;33m\u001b[0m\u001b[1;33m\u001b[0m\u001b[0m\n",
      "\u001b[1;32m<ipython-input-81-07b7dac3deea>\u001b[0m in \u001b[0;36mwrite\u001b[1;34m(self, text)\u001b[0m\n\u001b[0;32m      2\u001b[0m     \u001b[0mletter\u001b[0m \u001b[1;33m=\u001b[0m \u001b[1;34m''\u001b[0m\u001b[1;33m\u001b[0m\u001b[1;33m\u001b[0m\u001b[0m\n\u001b[0;32m      3\u001b[0m     \u001b[1;32mdef\u001b[0m \u001b[0mwrite\u001b[0m\u001b[1;33m(\u001b[0m\u001b[0mself\u001b[0m\u001b[1;33m,\u001b[0m\u001b[0mtext\u001b[0m\u001b[1;33m:\u001b[0m\u001b[0mstr\u001b[0m\u001b[1;33m)\u001b[0m \u001b[1;33m->\u001b[0m \u001b[1;32mNone\u001b[0m\u001b[1;33m:\u001b[0m\u001b[1;33m\u001b[0m\u001b[1;33m\u001b[0m\u001b[0m\n\u001b[1;32m----> 4\u001b[1;33m         \u001b[0mself\u001b[0m\u001b[1;33m.\u001b[0m\u001b[0mletter\u001b[0m \u001b[1;33m+=\u001b[0m \u001b[0mletter\u001b[0m\u001b[1;33m\u001b[0m\u001b[1;33m\u001b[0m\u001b[0m\n\u001b[0m\u001b[0;32m      5\u001b[0m \u001b[1;33m\u001b[0m\u001b[0m\n\u001b[0;32m      6\u001b[0m     \u001b[1;32mdef\u001b[0m \u001b[0mshow\u001b[0m\u001b[1;33m(\u001b[0m\u001b[0mself\u001b[0m\u001b[1;33m)\u001b[0m \u001b[1;33m->\u001b[0m \u001b[0mstr\u001b[0m\u001b[1;33m:\u001b[0m\u001b[1;33m\u001b[0m\u001b[1;33m\u001b[0m\u001b[0m\n",
      "\u001b[1;31mNameError\u001b[0m: name 'letter' is not defined"
     ]
    }
   ],
   "source": [
    "letter1.write(\"가나다라\")\n",
    "letter1.write(\"카타파하\")\n",
    "\n",
    "letter2.write('ABCD')\n",
    "letter2.write('WXYZ')"
   ]
  },
  {
   "cell_type": "markdown",
   "metadata": {},
   "source": [
    "### 2번 -1"
   ]
  },
  {
   "cell_type": "code",
   "execution_count": 88,
   "metadata": {},
   "outputs": [],
   "source": [
    "class Book:\n",
    "    title = ''\n",
    "    price = 0\n",
    "    \n",
    "    def setTitle(self, title:str) -> None:\n",
    "        self.title = title\n",
    "        \n",
    "    def setPrice(self, price:str) -> None:\n",
    "        self.price = price\n",
    "    "
   ]
  },
  {
   "cell_type": "code",
   "execution_count": 89,
   "metadata": {},
   "outputs": [],
   "source": [
    "book1 = Book()\n",
    "book1.setTitle('Python')\n",
    "book1.setPrice(10000)"
   ]
  },
  {
   "cell_type": "code",
   "execution_count": 90,
   "metadata": {},
   "outputs": [],
   "source": [
    "book2 = Book()\n",
    "book2.setTitle('Java')\n",
    "book2.setPrice(10000)"
   ]
  },
  {
   "cell_type": "code",
   "execution_count": 91,
   "metadata": {},
   "outputs": [
    {
     "name": "stdout",
     "output_type": "stream",
     "text": [
      "Python 10000\n",
      "Java 10000\n"
     ]
    }
   ],
   "source": [
    "print(book1.title, book1.price)\n",
    "print(book2.title, book2.price)"
   ]
  },
  {
   "cell_type": "code",
   "execution_count": null,
   "metadata": {},
   "outputs": [],
   "source": [
    "### 2번 -2"
   ]
  },
  {
   "cell_type": "code",
   "execution_count": 97,
   "metadata": {},
   "outputs": [],
   "source": [
    "class Product:\n",
    "    name = ''\n",
    "    code = ''\n",
    "    count = ''\n",
    "    \n",
    "    def __init__(self, name:str, code:str, count:int):\n",
    "        self.name = name\n",
    "        self.code = code\n",
    "        self.count = count\n",
    "        \n",
    "    def __str__(self) -> str:\n",
    "        return \"Name={0}, Code={1}, Count{2}\".format(self.name, self.code, self.count)\n",
    "        \n",
    "    def show_info(self) -> str:\n",
    "        return \"Name={0}, Code={1}, Count{2}\".format(self.name, self.code, self.count)"
   ]
  },
  {
   "cell_type": "code",
   "execution_count": 98,
   "metadata": {},
   "outputs": [
    {
     "name": "stdout",
     "output_type": "stream",
     "text": [
      "Name=Clock, Code=C00001, Count500\n"
     ]
    }
   ],
   "source": [
    "p1 = Product('Clock', 'C00001', 500)\n",
    "print(p1.show_info())"
   ]
  },
  {
   "cell_type": "code",
   "execution_count": 99,
   "metadata": {},
   "outputs": [
    {
     "name": "stdout",
     "output_type": "stream",
     "text": [
      "Name=TV, Code=T00001, Count1500\n"
     ]
    }
   ],
   "source": [
    "p2 = Product('TV', 'T00001', 1500)\n",
    "print(p2.show_info())"
   ]
  },
  {
   "cell_type": "code",
   "execution_count": 102,
   "metadata": {},
   "outputs": [
    {
     "name": "stdout",
     "output_type": "stream",
     "text": [
      "<bound method Product.__str__ of <__main__.Product object at 0x00000229860B57C0>>\n",
      "Name=Clock, Code=C00001, Count500\n"
     ]
    }
   ],
   "source": [
    "print(p1.__str__)\n",
    "print(p1)   #str을 위에서 지정해줬으므로 위에 처럼 안쓰고 p1만 쳐도됨"
   ]
  },
  {
   "cell_type": "markdown",
   "metadata": {},
   "source": [
    "### 3번 -2 (1은 생략)"
   ]
  },
  {
   "cell_type": "code",
   "execution_count": 103,
   "metadata": {},
   "outputs": [],
   "source": [
    "class Pizza: \n",
    "    def __init__(self):\n",
    "        self.topping = []\n",
    "        \n",
    "    def add_topping(self, food):\n",
    "        self.topping.append(food)\n",
    "        \n",
    "    def remove(self, food):\n",
    "        self.topping.remove(food)\n",
    "        \n",
    "    def show(self)-> list:\n",
    "        return self.topping\n",
    "        \n",
    " # 생성자 작성\n",
    " # add_option 메소드 작성\n",
    " # show_option 메소드 작성\n"
   ]
  },
  {
   "cell_type": "code",
   "execution_count": 104,
   "metadata": {},
   "outputs": [],
   "source": [
    "p1 = Pizza()\n",
    "p1.add_topping('치즈')\n",
    "p1.add_topping('베이컨')\n",
    "p1.add_topping('고구마')"
   ]
  },
  {
   "cell_type": "code",
   "execution_count": 105,
   "metadata": {},
   "outputs": [
    {
     "name": "stdout",
     "output_type": "stream",
     "text": [
      "['치즈', '베이컨', '고구마']\n"
     ]
    }
   ],
   "source": [
    "print(p1.show())"
   ]
  },
  {
   "cell_type": "code",
   "execution_count": 106,
   "metadata": {},
   "outputs": [],
   "source": [
    "p2 = Pizza()\n",
    "p2.add_topping('소시지')\n",
    "p2.add_topping('불고기')\n",
    "p2.add_topping('피망')\n",
    "p2.remove('소시지')"
   ]
  },
  {
   "cell_type": "code",
   "execution_count": 107,
   "metadata": {},
   "outputs": [
    {
     "name": "stdout",
     "output_type": "stream",
     "text": [
      "['불고기', '피망']\n"
     ]
    }
   ],
   "source": [
    "print(p2.show())"
   ]
  },
  {
   "cell_type": "markdown",
   "metadata": {},
   "source": [
    "### 4번 - 1"
   ]
  },
  {
   "cell_type": "code",
   "execution_count": 108,
   "metadata": {},
   "outputs": [],
   "source": [
    "class EachSum:\n",
    "    def __init__(self):\n",
    "        self.total = 0\n",
    "        \n",
    "    def compute(self, num: int) -> int:   #이제 이거 다음에 합을 할 수 있는 코드를 넣어줘야함\n",
    "        \n",
    "        pass"
   ]
  },
  {
   "cell_type": "code",
   "execution_count": 110,
   "metadata": {},
   "outputs": [
    {
     "name": "stdout",
     "output_type": "stream",
     "text": [
      "None\n"
     ]
    }
   ],
   "source": [
    "each = EachSum()\n",
    "total = each.compute(12345)  # 15\n",
    "print(total)"
   ]
  },
  {
   "cell_type": "code",
   "execution_count": 111,
   "metadata": {},
   "outputs": [
    {
     "name": "stdout",
     "output_type": "stream",
     "text": [
      "합계 None\n"
     ]
    }
   ],
   "source": [
    "print('합계', total)"
   ]
  },
  {
   "cell_type": "markdown",
   "metadata": {},
   "source": [
    "### 4번 - 2"
   ]
  },
  {
   "cell_type": "code",
   "execution_count": null,
   "metadata": {},
   "outputs": [],
   "source": [
    "import random\n",
    "class SelectMenu:\n",
    " # 코드 작성\n",
    "menu = SelectMenu(['짬뽕', '초밥', '쌀국수', '주꾸미'])\n",
    "print(menu.get_menu())"
   ]
  }
 ],
 "metadata": {
  "kernelspec": {
   "display_name": "Python 3",
   "language": "python",
   "name": "python3"
  },
  "language_info": {
   "codemirror_mode": {
    "name": "ipython",
    "version": 3
   },
   "file_extension": ".py",
   "mimetype": "text/x-python",
   "name": "python",
   "nbconvert_exporter": "python",
   "pygments_lexer": "ipython3",
   "version": "3.8.5"
  }
 },
 "nbformat": 4,
 "nbformat_minor": 4
}
