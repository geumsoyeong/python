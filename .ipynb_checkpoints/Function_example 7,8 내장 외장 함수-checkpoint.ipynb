{
 "cells": [
  {
   "cell_type": "markdown",
   "metadata": {},
   "source": [
    "### 7-4 내장함수"
   ]
  },
  {
   "cell_type": "code",
   "execution_count": 2,
   "metadata": {},
   "outputs": [],
   "source": [
    "hexa_string1 = '48 45 4C 4C 4F'  #문자열로 전달함\n",
    "hexa_string2 = '47 47 4F 52 45 42'"
   ]
  },
  {
   "cell_type": "code",
   "execution_count": 3,
   "metadata": {},
   "outputs": [],
   "source": [
    "def show_hex_to_ch(hext_string:str):  #클래스 선언하는 함수 아니니까 self하지 않음\n",
    "    hexa = hext_string.split(' ')   #split함수를 사용하면 data가  list로 바뀜\n",
    "    #결과값은 쪼개져서 각각의 문자열로 list형태로 저장됨\n",
    "    \n",
    "    for ch in hexa:  #다시 위의 숫자 list가 16진수로 바꿔준다.\n",
    "        print(chr(int(ch, 16)), end='')  #end=''해주면 가로로 출력하게 해줌"
   ]
  },
  {
   "cell_type": "code",
   "execution_count": 4,
   "metadata": {},
   "outputs": [
    {
     "name": "stdout",
     "output_type": "stream",
     "text": [
      "HELLO\n",
      "GGOREB"
     ]
    }
   ],
   "source": [
    "show_hex_to_ch(hexa_string1)\n",
    "print()#결과값은 쪼개져서 각각의 문자열로 list형태로 저장됨\n",
    "show_hex_to_ch(hexa_string2)"
   ]
  },
  {
   "cell_type": "markdown",
   "metadata": {},
   "source": [
    "### 7-6 내장함수 - 2번문제\n",
    "3개의 리스트 각 요소를 이용하여 튜플 리스트로 변환하기"
   ]
  },
  {
   "cell_type": "code",
   "execution_count": 5,
   "metadata": {},
   "outputs": [],
   "source": [
    "list1 = [1, 2, 3, 4]\n",
    "list2 = ['a', 'b', 'c', 'd']\n",
    "list3 = ['가', '나', '다', '라']"
   ]
  },
  {
   "cell_type": "code",
   "execution_count": 6,
   "metadata": {},
   "outputs": [],
   "source": [
    "result = []                      #1번째 방법\n",
    "for i in range(len(list1)):\n",
    "    t = tuple()\n",
    "    t += list1[i],\n",
    "    t += list2[i],\n",
    "    t += list3[i],\n",
    "    result.append(t)"
   ]
  },
  {
   "cell_type": "code",
   "execution_count": 7,
   "metadata": {},
   "outputs": [
    {
     "name": "stdout",
     "output_type": "stream",
     "text": [
      "[(1, 'a', '가'), (2, 'b', '나'), (3, 'c', '다'), (4, 'd', '라')]\n"
     ]
    }
   ],
   "source": [
    "print(result)"
   ]
  },
  {
   "cell_type": "code",
   "execution_count": 8,
   "metadata": {},
   "outputs": [
    {
     "name": "stdout",
     "output_type": "stream",
     "text": [
      "[(1, 'a', '가'), (2, 'b', '나'), (3, 'c', '다'), (4, 'd', '라')]\n"
     ]
    }
   ],
   "source": [
    "#zip 이용한 두 번째 방법 동일한 개수의 데이터(자료형)를 하나로 묶어주는 함수\n",
    "myZip = zip(list1, list2, list3)\n",
    "zipList = list(myZip)\n",
    "print(zipList)"
   ]
  },
  {
   "cell_type": "markdown",
   "metadata": {},
   "source": [
    "### 8-1 외장함수"
   ]
  },
  {
   "cell_type": "code",
   "execution_count": 9,
   "metadata": {},
   "outputs": [],
   "source": [
    "import pickle # 객체의 상태(값)을 저장하기 위한 모듈\n",
    "\n",
    "\n",
    "class NowData:\n",
    "    def __init__(self):\n",
    "        self.x = 0\n",
    "        self.y = 0\n",
    "        \n",
    "    def move(self, x: int, y:int):\n",
    "        self.x = x\n",
    "        self.y = y\n",
    "        \n",
    "    def get_location(self):\n",
    "        return self.x, self.y"
   ]
  },
  {
   "cell_type": "code",
   "execution_count": 10,
   "metadata": {},
   "outputs": [
    {
     "data": {
      "text/plain": [
       "(100, 200)"
      ]
     },
     "execution_count": 10,
     "metadata": {},
     "output_type": "execute_result"
    }
   ],
   "source": [
    "data = NowData()\n",
    "data.move(100, 200)\n",
    "data.get_location()"
   ]
  },
  {
   "cell_type": "code",
   "execution_count": 11,
   "metadata": {},
   "outputs": [],
   "source": [
    "file = open('save.bin', 'wb')   #write, binary모드\n",
    "pickle.dump(data, file)\n",
    "file.close()"
   ]
  },
  {
   "cell_type": "code",
   "execution_count": 12,
   "metadata": {},
   "outputs": [],
   "source": [
    "file = open('save.bin', 'rb')\n",
    "stored_data = pickle.load(file)\n",
    "file.close()"
   ]
  },
  {
   "cell_type": "code",
   "execution_count": 13,
   "metadata": {},
   "outputs": [
    {
     "data": {
      "text/plain": [
       "(100, 200)"
      ]
     },
     "execution_count": 13,
     "metadata": {},
     "output_type": "execute_result"
    }
   ],
   "source": [
    "stored_data.get_location()"
   ]
  },
  {
   "cell_type": "markdown",
   "metadata": {},
   "source": [
    "### 8-4 외장함수 2번 문제 - Calendar"
   ]
  },
  {
   "cell_type": "code",
   "execution_count": 14,
   "metadata": {},
   "outputs": [],
   "source": [
    "import calendar"
   ]
  },
  {
   "cell_type": "code",
   "execution_count": 15,
   "metadata": {},
   "outputs": [
    {
     "name": "stdout",
     "output_type": "stream",
     "text": [
      "    January 2021\n",
      "Mo Tu We Th Fr Sa Su\n",
      "             1  2  3\n",
      " 4  5  6  7  8  9 10\n",
      "11 12 13 14 15 16 17\n",
      "18 19 20 21 22 23 24\n",
      "25 26 27 28 29 30 31\n"
     ]
    }
   ],
   "source": [
    "calendar.prmonth(2021, 1)"
   ]
  },
  {
   "cell_type": "code",
   "execution_count": 16,
   "metadata": {},
   "outputs": [],
   "source": [
    "week_dict = { 0 : '월', 1 : '화', 2 : '수', 3 : '목', 4 : '금', 5 : '토', 6 : '일' }"
   ]
  },
  {
   "cell_type": "code",
   "execution_count": 17,
   "metadata": {},
   "outputs": [],
   "source": [
    "week = calendar.weekday(2021, 1, 7)"
   ]
  },
  {
   "cell_type": "code",
   "execution_count": 18,
   "metadata": {},
   "outputs": [
    {
     "name": "stdout",
     "output_type": "stream",
     "text": [
      "목\n"
     ]
    }
   ],
   "source": [
    "print(week_dict[week])   #위에서 지정한 210107의 요일"
   ]
  },
  {
   "cell_type": "code",
   "execution_count": 19,
   "metadata": {},
   "outputs": [
    {
     "name": "stdout",
     "output_type": "stream",
     "text": [
      "    August 2004\n",
      "Mo Tu We Th Fr Sa Su\n",
      "                   1\n",
      " 2  3  4  5  6  7  8\n",
      " 9 10 11 12 13 14 15\n",
      "16 17 18 19 20 21 22\n",
      "23 24 25 26 27 28 29\n",
      "30 31\n"
     ]
    }
   ],
   "source": [
    "# 2004년 8월의 달력과 요일이 월요일인 날짜 출력\n",
    "\n",
    "calendar.prmonth(2004, 8)"
   ]
  },
  {
   "cell_type": "code",
   "execution_count": 20,
   "metadata": {},
   "outputs": [],
   "source": [
    "week, last_day = calendar.monthrange(2004, 8)   ## calendar.monthrange(year, month)\n",
    "# 지정된 year와 month에 대해 월의 첫 번째 날의 요일과 월의 날 수를 반환합니다.\n",
    "# 위의 경우 일요일과 31일calender.monthrange(2004, 8)"
   ]
  },
  {
   "cell_type": "code",
   "execution_count": 21,
   "metadata": {},
   "outputs": [
    {
     "name": "stdout",
     "output_type": "stream",
     "text": [
      "2\n",
      "9\n",
      "16\n",
      "23\n",
      "30\n"
     ]
    }
   ],
   "source": [
    "for i in range(1, last_day + 1):\n",
    "    week = calendar.weekday(2004, 8, i)\n",
    "    if week == 0:\n",
    "        print(i)\n",
    "    #요일이 월요일인 날짜만 출력함 월요일:0"
   ]
  },
  {
   "cell_type": "markdown",
   "metadata": {},
   "source": [
    "### 8-5 외장함수\n",
    "1. 0.0 보다 크거나 같고 5.0 보다 적은 난수(실수) 생성\n",
    "2. 주사위 두개를 던진 결과를 출력하고 두 눈이 같으면 종료되는 코드 작성"
   ]
  },
  {
   "cell_type": "code",
   "execution_count": 22,
   "metadata": {},
   "outputs": [],
   "source": [
    "import random"
   ]
  },
  {
   "cell_type": "code",
   "execution_count": 23,
   "metadata": {},
   "outputs": [
    {
     "name": "stdout",
     "output_type": "stream",
     "text": [
      "4.876694157449219\n"
     ]
    }
   ],
   "source": [
    "# 0: (주사위1) ~5: (주사위6)\n",
    "#1번 문제\n",
    "num = random.random() * 5\n",
    "\n",
    "print(num)"
   ]
  },
  {
   "cell_type": "code",
   "execution_count": 24,
   "metadata": {},
   "outputs": [
    {
     "name": "stdout",
     "output_type": "stream",
     "text": [
      "4 6 3\n",
      "5 2 5\n",
      "5 5 5\n",
      "주사위를 던진 횟수 3\n"
     ]
    }
   ],
   "source": [
    "#주사위 3개를 던질 경우로 문제 변경 후 풀이\n",
    "count = 0\n",
    "while True:\n",
    "    num1 = random.randint(1,6)\n",
    "    num2 = random.randint(1,6)\n",
    "    num3 = random.randint(1,6)\n",
    "    \n",
    "    print(num1, num2, num3)\n",
    "    count += 1\n",
    "    \n",
    "    if num1 == num2 and num2 == num3:\n",
    "        break\n",
    "    \n",
    "print(\"주사위를 던진 횟수\", count)"
   ]
  },
  {
   "cell_type": "markdown",
   "metadata": {},
   "source": [
    "#### 8-5-3 문제 1 ~ 25 빙고판 만들기"
   ]
  },
  {
   "cell_type": "code",
   "execution_count": 25,
   "metadata": {},
   "outputs": [
    {
     "name": "stdout",
     "output_type": "stream",
     "text": [
      "['01', '02', '03', '04', '05', '06', '07', '08', '09', '10', '11', '12', '13', '14', '15', '16', '17', '18', '19', '20', '21', '22', '23', '24', '25']\n"
     ]
    }
   ],
   "source": [
    "bingo = list()\n",
    "for i in range (1, 26): #1~25까지 사용 #index값은 0~24\n",
    "    if i < 10:\n",
    "        i = '0' + str(i)  #01,02,03등으로 표현해 줌\n",
    "    bingo.append(str(i))\n",
    "    \n",
    "print(bingo)"
   ]
  },
  {
   "cell_type": "code",
   "execution_count": 26,
   "metadata": {},
   "outputs": [],
   "source": [
    "random.shuffle(bingo)  #랜덤으로 섞어줌"
   ]
  },
  {
   "cell_type": "code",
   "execution_count": 27,
   "metadata": {},
   "outputs": [
    {
     "name": "stdout",
     "output_type": "stream",
     "text": [
      "['09', '20', '25', '06', '08', '23', '02', '01', '07', '24', '12', '15', '13', '18', '17', '10', '19', '21', '04', '22', '16', '14', '03', '05', '11']\n"
     ]
    }
   ],
   "source": [
    "print(bingo)"
   ]
  },
  {
   "cell_type": "code",
   "execution_count": 28,
   "metadata": {},
   "outputs": [
    {
     "name": "stdout",
     "output_type": "stream",
     "text": [
      "09 20 25 06 08 \n",
      "23 02 01 07 24 \n",
      "12 15 13 18 17 \n",
      "10 19 21 04 22 \n",
      "16 14 03 05 11 \n"
     ]
    }
   ],
   "source": [
    "#이제 5줄5칸씩 끊어서 표현하자 \n",
    "## 1번째 방법\n",
    "for a in range(0, 5): # a : 0 ~ 4  -> a*5해주면 0,5,10,15,20으로 바뀜\n",
    "    for b in range(0, 5): # b : 0 ~ 4 위의 값에 b를 더해주면 ->0,1,2,3,4,5,6,7,8,9,10..\n",
    "        # bingo로부터 데이터 출력 : index 범위 0~24\n",
    "        print(bingo[a * 5 +b], end=' ')\n",
    "    print()\n",
    "    "
   ]
  },
  {
   "cell_type": "code",
   "execution_count": 29,
   "metadata": {},
   "outputs": [
    {
     "name": "stdout",
     "output_type": "stream",
     "text": [
      "09 20 25 06 08 \n",
      "23 02 01 07 24 \n",
      "12 15 13 18 17 \n",
      "10 19 21 04 22 \n",
      "16 14 03 05 11 \n"
     ]
    }
   ],
   "source": [
    "## 2번째 방법\n",
    "for a in range(0, len(bingo)):\n",
    "    print(bingo[a], end=' ')\n",
    "    if a % 5 == 4:\n",
    "        print()"
   ]
  },
  {
   "cell_type": "markdown",
   "metadata": {},
   "source": [
    "### 8-6 외장함수\n",
    "1. 1~xxx 사이의 난수를 생성하고 브라우저를 이용하여 로또 추첨결과 웹페이지를 확인하는 코드 작성"
   ]
  },
  {
   "cell_type": "code",
   "execution_count": 30,
   "metadata": {},
   "outputs": [],
   "source": [
    "import webbrowser\n",
    "import random"
   ]
  },
  {
   "cell_type": "code",
   "execution_count": 31,
   "metadata": {},
   "outputs": [
    {
     "data": {
      "text/plain": [
       "True"
      ]
     },
     "execution_count": 31,
     "metadata": {},
     "output_type": "execute_result"
    }
   ],
   "source": [
    "drwNo = random.randint(1, 945) #로또 회차가 944가 제일 최근거라서\n",
    "url = 'https://dhlottery.co.kr/gameResult.do?method=byWin&drwNo='\n",
    "webbrowser.open(url + str(drwNo))  #실행시키면 랜덤 숫자 회차의 로또 결과가 나온 웹페이지가 실행됨"
   ]
  },
  {
   "cell_type": "markdown",
   "metadata": {},
   "source": [
    "Work1) 숫자 야구 게임 (random, list, dictionary, set, if, while)\n",
    " - 컴퓨터가 발생한 난수를 사용자가 입력하여 맞추는 게임\n",
    " - 1~9까지의 숫자 3개를 컴퓨터가 난수로 발생\n",
    "      ex) 127, 349, 563\n",
    " - 중복되지 않는 숫자로 발생\n",
    " - 사용자로부터 3자리를 입력받아서 판정\n",
    "     -숫자가 같고, 자리수도 같으면 스트라이크 \n",
    "     -숫자는 같지만, 자리수가 다르면 볼\n",
    " \n",
    " 컴퓨터 발생 수 ) 127 (사용자에게 보이지 않음)\n",
    " \n",
    " 예시 > \n",
    " 숫자를 입력하세요 -> 149\n",
    " 1 스트라이크, 0 불 #스트라이크는 1 자리수가 맞았다\n",
    " 숫자를 입력하세요 -> 137\n",
    " 2 스트라이크, 0볼 # 2자리 맞음\n",
    " 숫자를 입력하세요 -> 172\n",
    " 1 스트라이크, 2볼   #숫자 3개는 같지만 자리수는 1하나 맞음\n",
    " 숫자를 입력하세요 -> 127\n",
    " 3스트라이크, 0볼 -> 정답입니다! 4번만에 맞추었습니다!!"
   ]
  },
  {
   "cell_type": "code",
   "execution_count": 2,
   "metadata": {},
   "outputs": [],
   "source": [
    "import random"
   ]
  },
  {
   "cell_type": "code",
   "execution_count": 3,
   "metadata": {},
   "outputs": [],
   "source": [
    "rn = [\"0\",\"0\",\"0\"]\n",
    "rn[0] = str(random.randrange(1, 9, 1))\n",
    "rn[1] = rn[0]\n",
    "rn[2] = rn[0]\n",
    "while(rn[0] == rn[1]):\n",
    "    rn[1] = str(random.randrange(1, 9, 1))\n",
    "while(rn[0] == rn[2] or rn[1] == rn[2]):\n",
    "    rn[2] = str(random.randrange(1, 9, 1))"
   ]
  },
  {
   "cell_type": "code",
   "execution_count": 4,
   "metadata": {},
   "outputs": [],
   "source": [
    "# print(rn)"
   ]
  },
  {
   "cell_type": "code",
   "execution_count": 5,
   "metadata": {},
   "outputs": [],
   "source": [
    "try_cnt = 0\n",
    "strike_cnt = 0\n",
    "ball_cnt = 0"
   ]
  },
  {
   "cell_type": "code",
   "execution_count": null,
   "metadata": {},
   "outputs": [
    {
     "name": "stdout",
     "output_type": "stream",
     "text": [
      "숫자 야구 게임을 시작합니다~~\n",
      "-----------------------------\n",
      "숫자 3자리를 입력하세요 : 123\n"
     ]
    }
   ],
   "source": [
    "print(\"숫자 야구 게임을 시작합니다~~\")\n",
    "print(\"-----------------------------\")\n",
    "while ( strike_cnt < 3 ):\n",
    "    \n",
    "    num = str(input(\"숫자 3자리를 입력하세요 : \"))\n",
    "    \n",
    "    try_cnt = 0\n",
    "    strike_cnt = 0\n",
    "    ball_cnt = 0\n",
    "    \n",
    "    for i in range(0, 3):\n",
    "        for j in range(0, 3):\n",
    "            if( num[i]  == str(rn[j]) and i == j ):\n",
    "                strike_cnt += 1\n",
    "            elif( num[i] == str(rn[j]) and i != j):\n",
    "                ball_cnt += 2\n",
    "print(\"-----------------------------\")\n",
    "print(try_cnt, \"번 만에 정답을 맞추셨습니다~!\")"
   ]
  },
  {
   "cell_type": "code",
   "execution_count": null,
   "metadata": {},
   "outputs": [],
   "source": []
  }
 ],
 "metadata": {
  "kernelspec": {
   "display_name": "Python 3",
   "language": "python",
   "name": "python3"
  }
 },
 "nbformat": 4,
 "nbformat_minor": 4
}
