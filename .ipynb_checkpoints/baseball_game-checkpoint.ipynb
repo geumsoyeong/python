{
 "cells": [
  {
   "cell_type": "markdown",
   "metadata": {},
   "source": [
    "Work1) 숫자 야구 게임 (random, list, dictionary, set, if, while)\n",
    " - 컴퓨터가 발생한 난수를 사용자가 입력하여 맞추는 게임\n",
    " - 1~9까지의 숫자 3개를 컴퓨터가 난수로 발생\n",
    "      ex) 127, 349, 563\n",
    " - 중복되지 않는 숫자로 발생\n",
    " - 사용자로부터 3자리를 입력받아서 판정\n",
    "     -숫자가 같고, 자리수도 같으면 스트라이크 \n",
    "     -숫자는 같지만, 자리수가 다르면 볼\n",
    " \n",
    " 컴퓨터 발생 수 ) 127 (사용자에게 보이지 않음)\n",
    " \n",
    " 예시 > \n",
    " 숫자를 입력하세요 -> 149\n",
    " 1 스트라이크, 0 불 #스트라이크는 1 자리수가 맞았다\n",
    " 숫자를 입력하세요 -> 137\n",
    " 2 스트라이크, 0볼 # 2자리 맞음\n",
    " 숫자를 입력하세요 -> 172\n",
    " 1 스트라이크, 2볼   #숫자 3개는 같지만 자리수는 1하나 맞음\n",
    " 숫자를 입력하세요 -> 127\n",
    " 3스트라이크, 0볼 -> 정답입니다! 4번만에 맞추었습니다!!"
   ]
  },
  {
   "cell_type": "code",
   "execution_count": 1,
   "metadata": {},
   "outputs": [],
   "source": [
    "import random"
   ]
  },
  {
   "cell_type": "code",
   "execution_count": 2,
   "metadata": {},
   "outputs": [],
   "source": [
    "rn = [\"0\",\"0\",\"0\"]\n",
    "rn[0] = str(random.randrange(1, 9, 1))\n",
    "rn[1] = rn[0]\n",
    "rn[2] = rn[0]\n",
    "while(rn[0] == rn[1]):\n",
    "    rn[1] = str(random.randrange(1, 9, 1))\n",
    "while(rn[0] == rn[2] or rn[1] == rn[2]):\n",
    "    rn[2] = str(random.randrange(1, 9, 1))"
   ]
  },
  {
   "cell_type": "code",
   "execution_count": 4,
   "metadata": {},
   "outputs": [],
   "source": [
    "try_cnt = 0\n",
    "strike_cnt = 0\n",
    "ball_cnt = 0"
   ]
  },
  {
   "cell_type": "code",
   "execution_count": 5,
   "metadata": {},
   "outputs": [
    {
     "name": "stdout",
     "output_type": "stream",
     "text": [
      "숫자 야구 게임을 시작합니다~~\n",
      "-----------------------------\n",
      "숫자 3자리를 입력하세요 : 123\n",
      "결과 : [ 0 ] Strike [ 2 ] Ball\n",
      "숫자 3자리를 입력하세요 : 321\n",
      "결과 : [ 0 ] Strike [ 2 ] Ball\n",
      "숫자 3자리를 입력하세요 : 213\n",
      "결과 : [ 1 ] Strike [ 1 ] Ball\n",
      "숫자 3자리를 입력하세요 : 210\n",
      "결과 : [ 1 ] Strike [ 0 ] Ball\n",
      "숫자 3자리를 입력하세요 : 231\n",
      "결과 : [ 2 ] Strike [ 0 ] Ball\n",
      "숫자 3자리를 입력하세요 : 232\n",
      "결과 : [ 2 ] Strike [ 1 ] Ball\n",
      "숫자 3자리를 입력하세요 : 234\n",
      "결과 : [ 2 ] Strike [ 0 ] Ball\n",
      "숫자 3자리를 입력하세요 : 235\n",
      "결과 : [ 2 ] Strike [ 0 ] Ball\n",
      "숫자 3자리를 입력하세요 : 236\n",
      "결과 : [ 3 ] Strike [ 0 ] Ball\n",
      "-----------------------------\n",
      "9 번 만에 정답을 맞추셨습니다~!\n"
     ]
    }
   ],
   "source": [
    "print(\"숫자 야구 게임을 시작합니다~~\")\n",
    "print(\"-----------------------------\")\n",
    "while ( strike_cnt < 3 ):\n",
    "    \n",
    "    num = str(input(\"숫자 3자리를 입력하세요 : \"))\n",
    "    \n",
    "    strike_cnt = 0\n",
    "    ball_cnt = 0\n",
    "    \n",
    "    for i in range(0, 3):\n",
    "        for j in range(0, 3):\n",
    "            if( num[i]  == str(rn[j]) and i == j ):\n",
    "                strike_cnt += 1\n",
    "            elif( num[i] == str(rn[j]) and i != j):\n",
    "                ball_cnt += 1\n",
    "                \n",
    "    print(\"결과 : [\", strike_cnt, \"] Strike [\", ball_cnt, \"] Ball\")\n",
    "    try_cnt += 1\n",
    "    \n",
    "print(\"-----------------------------\")\n",
    "print(try_cnt, \"번 만에 정답을 맞추셨습니다~!\")"
   ]
  },
  {
   "cell_type": "code",
   "execution_count": null,
   "metadata": {},
   "outputs": [],
   "source": []
  }
 ],
 "metadata": {
  "kernelspec": {
   "display_name": "Python 3",
   "language": "python",
   "name": "python3"
  },
  "language_info": {
   "codemirror_mode": {
    "name": "ipython",
    "version": 3
   },
   "file_extension": ".py",
   "mimetype": "text/x-python",
   "name": "python",
   "nbconvert_exporter": "python",
   "pygments_lexer": "ipython3",
   "version": "3.8.5"
  }
 },
 "nbformat": 4,
 "nbformat_minor": 4
}
